{
 "cells": [
  {
   "cell_type": "code",
   "execution_count": 9,
   "metadata": {
    "id": "jjLzPFLdsWI4"
   },
   "outputs": [],
   "source": []
  },
  {
   "cell_type": "code",
   "execution_count": 25,
   "metadata": {},
   "outputs": [],
   "source": []
  },
  {
   "cell_type": "code",
   "execution_count": 3,
   "metadata": {
    "id": "c2Ax3XJ5tWyQ"
   },
   "outputs": [],
   "source": []
  },
  {
   "cell_type": "code",
   "execution_count": 30,
   "metadata": {
    "id": "Xb3PBehie7Vz"
   },
   "outputs": [
    {
     "name": "stdout",
     "output_type": "stream",
     "text": [
      " * Serving Flask app '__main__'\n",
      " * Debug mode: off\n"
     ]
    },
    {
     "name": "stderr",
     "output_type": "stream",
     "text": [
      "WARNING: This is a development server. Do not use it in a production deployment. Use a production WSGI server instead.\n",
      " * Running on all addresses (0.0.0.0)\n",
      " * Running on http://127.0.0.1:5000\n",
      " * Running on http://192.168.43.13:5000\n",
      "Press CTRL+C to quit\n"
     ]
    },
    {
     "name": "stdout",
     "output_type": "stream",
     "text": [
      "1/1 [==============================] - 1s 644ms/step\n"
     ]
    },
    {
     "name": "stderr",
     "output_type": "stream",
     "text": [
      "127.0.0.1 - - [10/Jun/2023 14:09:21] \"POST / HTTP/1.1\" 200 -\n"
     ]
    },
    {
     "name": "stdout",
     "output_type": "stream",
     "text": [
      "1/1 [==============================] - 0s 197ms/step\n"
     ]
    },
    {
     "name": "stderr",
     "output_type": "stream",
     "text": [
      "127.0.0.1 - - [10/Jun/2023 14:09:26] \"POST / HTTP/1.1\" 200 -\n"
     ]
    },
    {
     "name": "stdout",
     "output_type": "stream",
     "text": [
      "1/1 [==============================] - 0s 184ms/step\n"
     ]
    },
    {
     "name": "stderr",
     "output_type": "stream",
     "text": [
      "127.0.0.1 - - [10/Jun/2023 14:09:33] \"POST / HTTP/1.1\" 200 -\n",
      "127.0.0.1 - - [10/Jun/2023 14:09:39] \"GET / HTTP/1.1\" 200 -\n"
     ]
    },
    {
     "name": "stdout",
     "output_type": "stream",
     "text": [
      "1/1 [==============================] - 0s 156ms/step\n"
     ]
    },
    {
     "name": "stderr",
     "output_type": "stream",
     "text": [
      "127.0.0.1 - - [10/Jun/2023 14:09:50] \"POST / HTTP/1.1\" 200 -\n"
     ]
    }
   ],
   "source": [
    "import tensorflow as tf\n",
    "import numpy as np\n",
    "from tensorflow import keras\n",
    "from tensorflow.keras.utils import load_img\n",
    "from tensorflow.keras.utils import img_to_array\n",
    "from keras.applications.vgg16 import preprocess_input, decode_predictions, VGG16\n",
    "from flask import Flask, request, render_template\n",
    "\n",
    "model = tf.keras.models.load_model('RiceBuddy_model.h5')\n",
    "def decode_predict(predictions):\n",
    "    # Daftar label kelas\n",
    "    classes = ['BrownSpot', 'Healthy', 'Hispa', 'LeafBlast']\n",
    "    \n",
    "    # Mengambil indeks dengan probabilitas tertinggi\n",
    "    predicted_index = np.argmax(predictions)\n",
    "    \n",
    "    # Mengambil label kelas yang sesuai\n",
    "    predicted_class = classes[predicted_index]\n",
    "    \n",
    "    return predicted_class\n",
    "\n",
    "app = Flask(__name__)\n",
    "\n",
    "# Route untuk mendapatkan semua data\n",
    "@app.route('/', methods=['GET'])\n",
    "def hello_world():\n",
    "  return render_template(\"index.html\")\n",
    "\n",
    "@app.route('/', methods=['POST'])\n",
    "def predict():\n",
    "  imagefile= request.files['imagefile']\n",
    "  image_path = \"./images/\" + imagefile.filename\n",
    "  imagefile.save(image_path)\n",
    "\n",
    "  image = load_img(image_path, target_size=(100,100))\n",
    "  image = img_to_array(image)\n",
    "  image = image.reshape((1, image.shape[0], image.shape[1], image.shape[2]))\n",
    "  image = preprocess_input(image)\n",
    "  yhat = model.predict(image)\n",
    "  label = decode_predict(yhat)\n",
    "  \n",
    "\n",
    "  return render_template(\"index.html\", prediction=label)\n",
    "\n",
    "if __name__ == '__main__':\n",
    "    app.run(host='0.0.0.0', port= 5000, debug= False)\n"
   ]
  },
  {
   "cell_type": "code",
   "execution_count": null,
   "metadata": {},
   "outputs": [],
   "source": []
  }
 ],
 "metadata": {
  "colab": {
   "private_outputs": true,
   "provenance": []
  },
  "kernelspec": {
   "display_name": "Python 3 (ipykernel)",
   "language": "python",
   "name": "python3"
  },
  "language_info": {
   "codemirror_mode": {
    "name": "ipython",
    "version": 3
   },
   "file_extension": ".py",
   "mimetype": "text/x-python",
   "name": "python",
   "nbconvert_exporter": "python",
   "pygments_lexer": "ipython3",
   "version": "3.8.16"
  }
 },
 "nbformat": 4,
 "nbformat_minor": 1
}
